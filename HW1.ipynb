{
  "nbformat": 4,
  "nbformat_minor": 0,
  "metadata": {
    "colab": {
      "name": "HW1.ipynb",
      "provenance": [],
      "collapsed_sections": [],
      "authorship_tag": "ABX9TyPk4xX4kefT7RPLHTJHsjpv",
      "include_colab_link": true
    },
    "kernelspec": {
      "name": "python3",
      "display_name": "Python 3"
    },
    "language_info": {
      "name": "python"
    }
  },
  "cells": [
    {
      "cell_type": "markdown",
      "metadata": {
        "id": "view-in-github",
        "colab_type": "text"
      },
      "source": [
        "<a href=\"https://colab.research.google.com/github/kasurashan/Math4DL/blob/main/HW1.ipynb\" target=\"_parent\"><img src=\"https://colab.research.google.com/assets/colab-badge.svg\" alt=\"Open In Colab\"/></a>"
      ]
    },
    {
      "cell_type": "markdown",
      "source": [
        "# 문제 1"
      ],
      "metadata": {
        "id": "ttPB5sK7qfrN"
      }
    },
    {
      "cell_type": "code",
      "source": [
        "import numpy as np\n",
        "import matplotlib.pyplot as plt"
      ],
      "metadata": {
        "id": "N5Bgch18b-a9"
      },
      "execution_count": 1,
      "outputs": []
    },
    {
      "cell_type": "code",
      "source": [
        "np.exp(1)"
      ],
      "metadata": {
        "colab": {
          "base_uri": "https://localhost:8080/",
          "height": 0
        },
        "id": "ym0XebmfcTS4",
        "outputId": "9b3c2e41-96bb-4b0a-b829-9cef9f49f44a"
      },
      "execution_count": 4,
      "outputs": [
        {
          "output_type": "execute_result",
          "data": {
            "text/plain": [
              "2.718281828459045"
            ]
          },
          "metadata": {},
          "execution_count": 4
        }
      ]
    },
    {
      "cell_type": "code",
      "execution_count": 6,
      "metadata": {
        "colab": {
          "base_uri": "https://localhost:8080/",
          "height": 265
        },
        "id": "FwXJsFk0b4K1",
        "outputId": "91c12f0f-dc1d-42fc-eaeb-206b0b0f7323"
      },
      "outputs": [
        {
          "output_type": "display_data",
          "data": {
            "text/plain": [
              "<Figure size 432x288 with 1 Axes>"
            ],
            "image/png": "[encoded data removed]"
          },
          "metadata": {
            "needs_background": "light"
          }
        }
      ],
      "source": [
        "np.seterr(invalid='ignore', over='ignore')  # suppress warning caused by division by inf\n",
        "\n",
        "def f(x):\n",
        "  return 1/(1 + np.exp(3*(x-3))) * 10 * x**2  + 1 / (1 + np.exp(-3*(x-3))) * (0.5*(x-10)**2 + 50)\n",
        "\n",
        "def fprime(x):\n",
        "  return 1 / (1 + np.exp((-3)*(x-3))) * (x-10) + 1/(1 + np.exp(3*(x-3))) * 20 * x + (3* np.exp(9))/(np.exp(9-1.5*x) + np.exp(1.5*x))**2 * ((0.5*(x-10)**2 + 50) - 10 * x**2) \n",
        "\n",
        "x = np.linspace(-5,20,100)\n",
        "plt.plot(x,f(x), 'k')\n",
        "plt.show()\n"
      ]
    },
    {
      "cell_type": "code",
      "source": [
        "theta = np.random.random_sample(1)   # [0,1) 범위에서 난수 ***개 뽑음\n",
        "theta = theta * (20-(-5)) + (-5)   # [-5, 20)\n",
        "print(theta)\n",
        "\n",
        "\n",
        "f_val = []\n",
        "\n",
        "alpha = 0.01\n",
        "for i in range(1000):\n",
        "  theta -= alpha * fprime(theta)\n",
        "  f_val.append(f(theta))\n",
        "\n",
        "theta"
      ],
      "metadata": {
        "colab": {
          "base_uri": "https://localhost:8080/",
          "height": 0
        },
        "id": "SeKj_-JEcbFw",
        "outputId": "16206862-cb9e-4f8a-ead9-5f63e2a3ad94"
      },
      "execution_count": 40,
      "outputs": [
        {
          "output_type": "stream",
          "name": "stdout",
          "text": [
            "[-2.04313935]\n"
          ]
        },
        {
          "output_type": "execute_result",
          "data": {
            "text/plain": [
              "array([-0.00178])"
            ]
          },
          "metadata": {},
          "execution_count": 40
        }
      ]
    },
    {
      "cell_type": "markdown",
      "source": [
        "alpha = 0.01인 경우 초기값에 따라 두 mimum에 모두 converge 함\n",
        "\n",
        "alpha = 0.3인 경우 wide minimum (theta = 10) 에 converge 함   (sharp minimum에는 converge 하지 않음)\n",
        "\n",
        "alpha = 4인 경우 converge하지 않음"
      ],
      "metadata": {
        "id": "AZYe3C_cfz-S"
      }
    },
    {
      "cell_type": "markdown",
      "source": [
        "# 문제 2 "
      ],
      "metadata": {
        "id": "3H5HaDXTqeKn"
      }
    },
    {
      "cell_type": "markdown",
      "source": [
        "###input : $\\mathbf{x}\\in\\mathbb{R}^{n}$\n",
        "\n",
        "###output : $A\\textbf{x},\\quad \\textrm{where }A= \n",
        "\\left[\\begin{matrix}\n",
        "    k_1 & k_2 & \\cdots & k_r & 0 & \\cdots &  & 0 \\\\\n",
        "    0 & k_1 & k_2 & \\cdots & k_r & 0 & \\cdots & 0 \\\\\n",
        "    \\vdots & & \\ddots \\\\ \n",
        "    0 &   \\cdots & 0 & k_1 & k_2 & \\cdots & & k_r\n",
        "\\end{matrix}\\right]\n",
        "\\in\\mathbb{R}^{(n-r+1)\\times n}$\n",
        "\n",
        "참고) 머신러닝에서는 위의 연산 $A\\textbf{x}$를 \n",
        "\n",
        "filter (또는 receptive field) $k=(k_1,\\cdots,k_r)\\in\\mathbb{R}^r$를 이용한\n",
        "\n",
        "$\\textbf{x}$의 **Convolution 컨볼루션**이라고 한다.\n",
        "\n",
        "(수학, 신호처리에서는\n",
        "\n",
        "kernel $k$를 이용한 $\\textbf{x}$의 cross-correlation이라고 한다.)\n",
        "\n",
        "\\\\\n",
        "\n",
        "###정답 : $\\textbf{b}\\in\\mathbb{R}^{n-r+1}$\n",
        "\n",
        "\\\\\n",
        "\n",
        "###Loss function : **Huber** loss 사용\n",
        "\n",
        "###$\\underset{\\textbf{x}\\in\\mathbb{R}^n}{\\textrm{argmin}}\\ [\\ l(A\\textbf{x}-\\textbf{b})+\\cfrac{\\lambda}{2}\\|\\textbf{x}\\|^2\\ ]$\n",
        "\n",
        "\n",
        "\\\\\n",
        "###**Huber loss** \n",
        ": 오차가 특정 값 이하면 L2 norm을 , 이상이면 L1 norm을 사용해서 \n",
        "\n",
        "Outlier에 덜 민감하도록 함 (Robust)\n",
        "\n",
        "$l:\\mathbb{R}^m\\rightarrow\\mathbb{R}$일 때, element-wise Huber loss는 다음과 같다.\n",
        "\n",
        "$l(y)=\\overset{m}{\\underset{i=1}{\\sum}}h(y_i), \\quad \\textrm{where } h = \\begin{cases}\\frac{1}{2}x^2 \\ \\quad\\quad \\textrm{for } |x|\\leq 1  \\\\ |x|-\\frac{1}{2} \\quad \\textrm{otherwise}   \\end{cases} $\n",
        "\n",
        "참고) $\\frac{1}{2}$를 곱해주고, 빼주는 이유는 Huber loss가 연속이면서 미분 가능하도록 하기 위한 장치 \n",
        "\n",
        "(연속, 미분가능하면 Gradient Descent 사용 가능해서 optimizing하기 쉬워짐)\n",
        "\n",
        "\n"
      ],
      "metadata": {
        "id": "XSAYyIwz44rc"
      }
    },
    {
      "cell_type": "code",
      "source": [
        "import matplotlib.pyplot as plt"
      ],
      "metadata": {
        "id": "6p6O3gq8cBpd"
      },
      "execution_count": 31,
      "outputs": []
    },
    {
      "cell_type": "code",
      "source": [
        "def huber_function(x):\n",
        "  return 1/2*(x**2)*(np.abs(x)<=1) + (np.abs(x)-1/2)*(np.abs(x)>1)\n",
        "\n",
        "x = np.linspace(-5, 5, 100)\n",
        "y = huber_function(x)\n",
        "plt.title(\"Huber Function\")\n",
        "plt.plot(x,y)"
      ],
      "metadata": {
        "colab": {
          "base_uri": "https://localhost:8080/",
          "height": 299
        },
        "id": "vyYh8tN4azoI",
        "outputId": "67b05bbf-d3e1-45b1-f54d-cfda61845454"
      },
      "execution_count": 32,
      "outputs": [
        {
          "output_type": "execute_result",
          "data": {
            "text/plain": [
              "[<matplotlib.lines.Line2D at 0x7f984a959910>]"
            ]
          },
          "metadata": {},
          "execution_count": 32
        },
        {
          "output_type": "display_data",
          "data": {
            "text/plain": [
              "<Figure size 432x288 with 1 Axes>"
            ],
            "image/png": "[encoded data removed]"
          },
          "metadata": {
            "needs_background": "light"
          }
        }
      ]
    },
    {
      "cell_type": "markdown",
      "source": [
        "##Gradient Descent를 통해 위의 loss function을 최소화하는 $\\textbf{x}$를 찾는 것이 목표 (by 코딩)\n",
        "\n",
        "즉, $l$과 $\\nabla l$을 계산해야 한다.\n"
      ],
      "metadata": {
        "id": "2Z7ETAPA8MmN"
      }
    },
    {
      "cell_type": "markdown",
      "source": [
        "참고) duck typing\n",
        "\n",
        "객체의 적합성은 객체의 실제 유형이 아니라 특정 메소드와 속성의 존재에 의해 결정되는 것\n",
        "\n",
        "https://wikidocs.net/16076"
      ],
      "metadata": {
        "id": "E0GYEtokDjf6"
      }
    },
    {
      "cell_type": "code",
      "source": [
        "import numpy as np"
      ],
      "metadata": {
        "id": "utYxTOrxqljD"
      },
      "execution_count": 2,
      "outputs": []
    },
    {
      "cell_type": "code",
      "source": [
        "# filter k는 특정 길이의 1차원 array\n",
        "# 이 필터를 이용해서 행렬 A를 직접 구성하는 것은 비효율적임 (A의 성분에 0이 너무 많아서 낭비임)\n",
        "# 그래서 A를 직접 구성하는 대신 (벡터*행렬) 곱하는 method를 갖고 있는 object로 만듦\n",
        "# 우리가 하려는 것\n",
        "# 1. 어떤 filter를 받아서 행렬 A를 대신하는 object를 구성 (__init__)\n",
        "# 2. 위에서 생성한 object에 벡터 x를 곱할 수 있게 method 만들기 (__matmul__) :   A@x\n",
        "# 3. Transpose된 행렬에도 벡터 곱할 수 있게 만들기 :   A.T @ x  (__matmul__)    <-   duck typing \n",
        "\n",
        "\n",
        "class Convolution1d:\n",
        "  def __init__(self, filt):\n",
        "    self.__filt = filt\n",
        "    self.__r = filt.size\n",
        "    self.T = TransposedConvolution1d(self.__filt)   # A.T @ x : 이미 선언된 오브젝트 A의 self.T공간에 저장된 TransposedConvolution1d 클래스를 불러옴 \n",
        "                                                    # 그 후 TransposedConvolution1d 클래스의 __ matmul__ 메소드를 이용해 A.T @ x 계산 \n",
        "  def __matmul__(self, vector):\n",
        "    r = self.__r\n",
        "    n = vector.size\n",
        "    \n",
        "    return np.asarray([ np.dot(self.__filt, vector[idx:idx+r]) for idx in range(n-r+1)])\n",
        "\n",
        "class TransposedConvolution1d:   # Transpose된 행렬과의 곱셈을 위한 클래스 정의\n",
        "  def __init__(self, filt):\n",
        "    self.__filt = filt\n",
        "    self.__r = filt.size\n",
        "  def __matmul__(self, vector):\n",
        "    r = self.__r\n",
        "    n = vector.size + r - 1   # transpose 된 행렬에 맞는 크기의 벡터가 곱해진다고 가정하고 딱히 예외처리는 안 하겠음\n",
        "    return np.asarray([ np.dot(self.__filt[:idx][::-1], vector[:idx]) if idx<r \\\n",
        "                       else np.dot(self.__filt[::-1], vector[idx-r:idx]) if idx<=n-r \\\n",
        "                       else np.dot(self.__filt[::-1][:n-idx+1], vector[idx-r:])  for idx in range(1, n+1)])\n",
        "\n"
      ],
      "metadata": {
        "id": "-jFcycB6qndx"
      },
      "execution_count": 86,
      "outputs": []
    },
    {
      "cell_type": "code",
      "source": [
        "def huber_loss(x):   # 행렬 성분별로 huber loss 계산 후 다 더해준다 -> return : 스칼라\n",
        "  return np.sum((1/2)*(x**2) * (np.abs(x)<=1) + (np.abs(x) - 1/2) * (np.abs(x)>1))\n",
        "\n",
        "def huber_grad(x):   # gradient 계산 -> return : 벡터\n",
        "  return x * (np.abs(x) <= 1) + np.sign(x) * (np.abs(x) > 1)"
      ],
      "metadata": {
        "id": "vphJfhloOL6K"
      },
      "execution_count": 87,
      "outputs": []
    },
    {
      "cell_type": "code",
      "source": [
        "r, n, lam = 3, 20, 0.1\n",
        "\n",
        "np.random.seed(0)\n",
        "k = np.random.randn(r)\n",
        "b = np.random.randn(n-r+1)\n",
        "A = Convolution1d(k)"
      ],
      "metadata": {
        "id": "SMKxz3JMqAaM"
      },
      "execution_count": 88,
      "outputs": []
    },
    {
      "cell_type": "code",
      "source": [
        "x = np.zeros(n)\n",
        "alpha = 0.01\n",
        "for _ in range(100) :\n",
        "    x = x - alpha*(A.T@(huber_grad(A@x-b))+lam*x)\n",
        "\n",
        "print(huber_loss(A@x-b)+0.5*lam*np.linalg.norm(x)**2)"
      ],
      "metadata": {
        "colab": {
          "base_uri": "https://localhost:8080/",
          "height": 0
        },
        "id": "UH9-eCxdqC4z",
        "outputId": "62048822-e562-40b9-d608-0f1a148327e8"
      },
      "execution_count": 89,
      "outputs": [
        {
          "output_type": "stream",
          "name": "stdout",
          "text": [
            "0.4587586843129764\n"
          ]
        }
      ]
    },
    {
      "cell_type": "markdown",
      "source": [
        "참고) A 행렬을 직접 구성하는 법"
      ],
      "metadata": {
        "id": "-D1YoGHFpxIJ"
      }
    },
    {
      "cell_type": "code",
      "source": [
        "from scipy.linalg import circulant"
      ],
      "metadata": {
        "id": "FcsFlyspOODE"
      },
      "execution_count": 1,
      "outputs": []
    },
    {
      "cell_type": "code",
      "source": [
        "A = circulant(np.concatenate((np.flip(k), np.zeros(n-r))))[r-1:, :]"
      ],
      "metadata": {
        "id": "4WTaLmpxps8E"
      },
      "execution_count": null,
      "outputs": []
    }
  ]
}